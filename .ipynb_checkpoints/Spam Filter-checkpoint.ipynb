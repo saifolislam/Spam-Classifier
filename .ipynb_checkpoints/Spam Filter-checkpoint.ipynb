{
 "cells": [
  {
   "cell_type": "markdown",
   "id": "a4a4bd7e",
   "metadata": {},
   "source": [
    "# Spam Classifier"
   ]
  },
  {
   "cell_type": "markdown",
   "id": "57a2886a",
   "metadata": {},
   "source": [
    "<font size=\"3\"> In this project I build a spam classifier using multinomial naive bayes algorithm. The dataset containing spam and non-spam messages that was used can be downloaded [here](https://archive.ics.uci.edu/ml/datasets/sms+spam+collection).<font size=\"3\">\n",
    "<br />\n",
    "<br />"
   ]
  },
  {
   "cell_type": "markdown",
   "id": "8a4e4d81",
   "metadata": {},
   "source": [
    "## Import library & dataset"
   ]
  },
  {
   "cell_type": "code",
   "execution_count": 136,
   "id": "be1701b7",
   "metadata": {},
   "outputs": [],
   "source": [
    "# import pandas\n",
    "import pandas as pd\n",
    "\n",
    "# Read the data\n",
    "sms_spam_collection = pd.read_csv('smsspamcollection/SMSSpamCollection',sep='\\t',header=None, names=['Label','SMS'])"
   ]
  },
  {
   "cell_type": "markdown",
   "id": "4e330825",
   "metadata": {},
   "source": [
    "## Explorartory Data Analysis"
   ]
  },
  {
   "cell_type": "code",
   "execution_count": 137,
   "id": "0bd7b828",
   "metadata": {},
   "outputs": [
    {
     "name": "stdout",
     "output_type": "stream",
     "text": [
      "<class 'pandas.core.frame.DataFrame'>\n",
      "RangeIndex: 5572 entries, 0 to 5571\n",
      "Data columns (total 2 columns):\n",
      " #   Column  Non-Null Count  Dtype \n",
      "---  ------  --------------  ----- \n",
      " 0   Label   5572 non-null   object\n",
      " 1   SMS     5572 non-null   object\n",
      "dtypes: object(2)\n",
      "memory usage: 87.2+ KB\n"
     ]
    }
   ],
   "source": [
    "# Get info on our dataframe\n",
    "sms_spam_collection.info()"
   ]
  },
  {
   "cell_type": "markdown",
   "id": "7755ab73",
   "metadata": {},
   "source": [
    "<font size=\"3\"> It seems all values are non-null, so we don't have to worry about dealing with null values. Now, let's take a look at the first few rows of our dataframe. <font/>"
   ]
  },
  {
   "cell_type": "code",
   "execution_count": 138,
   "id": "c406ea8d",
   "metadata": {},
   "outputs": [
    {
     "data": {
      "text/html": [
       "<div>\n",
       "<style scoped>\n",
       "    .dataframe tbody tr th:only-of-type {\n",
       "        vertical-align: middle;\n",
       "    }\n",
       "\n",
       "    .dataframe tbody tr th {\n",
       "        vertical-align: top;\n",
       "    }\n",
       "\n",
       "    .dataframe thead th {\n",
       "        text-align: right;\n",
       "    }\n",
       "</style>\n",
       "<table border=\"1\" class=\"dataframe\">\n",
       "  <thead>\n",
       "    <tr style=\"text-align: right;\">\n",
       "      <th></th>\n",
       "      <th>Label</th>\n",
       "      <th>SMS</th>\n",
       "    </tr>\n",
       "  </thead>\n",
       "  <tbody>\n",
       "    <tr>\n",
       "      <th>0</th>\n",
       "      <td>ham</td>\n",
       "      <td>Go until jurong point, crazy.. Available only in bugis n great world la e buffet... Cine there got amore wat...</td>\n",
       "    </tr>\n",
       "    <tr>\n",
       "      <th>1</th>\n",
       "      <td>ham</td>\n",
       "      <td>Ok lar... Joking wif u oni...</td>\n",
       "    </tr>\n",
       "    <tr>\n",
       "      <th>2</th>\n",
       "      <td>spam</td>\n",
       "      <td>Free entry in 2 a wkly comp to win FA Cup final tkts 21st May 2005. Text FA to 87121 to receive entry question(std txt rate)T&amp;C's apply 08452810075over18's</td>\n",
       "    </tr>\n",
       "    <tr>\n",
       "      <th>3</th>\n",
       "      <td>ham</td>\n",
       "      <td>U dun say so early hor... U c already then say...</td>\n",
       "    </tr>\n",
       "    <tr>\n",
       "      <th>4</th>\n",
       "      <td>ham</td>\n",
       "      <td>Nah I don't think he goes to usf, he lives around here though</td>\n",
       "    </tr>\n",
       "  </tbody>\n",
       "</table>\n",
       "</div>"
      ],
      "text/plain": [
       "  Label  \\\n",
       "0   ham   \n",
       "1   ham   \n",
       "2  spam   \n",
       "3   ham   \n",
       "4   ham   \n",
       "\n",
       "                                                                                                                                                           SMS  \n",
       "0                                              Go until jurong point, crazy.. Available only in bugis n great world la e buffet... Cine there got amore wat...  \n",
       "1                                                                                                                                Ok lar... Joking wif u oni...  \n",
       "2  Free entry in 2 a wkly comp to win FA Cup final tkts 21st May 2005. Text FA to 87121 to receive entry question(std txt rate)T&C's apply 08452810075over18's  \n",
       "3                                                                                                            U dun say so early hor... U c already then say...  \n",
       "4                                                                                                Nah I don't think he goes to usf, he lives around here though  "
      ]
     },
     "execution_count": 138,
     "metadata": {},
     "output_type": "execute_result"
    }
   ],
   "source": [
    "# First five rows of our data\n",
    "pd.options.display.max_colwidth = 200\n",
    "sms_spam_collection.head()"
   ]
  },
  {
   "cell_type": "markdown",
   "id": "5f220aca",
   "metadata": {},
   "source": [
    "<font size=\"3\">As per the documentation, non-spam messages are labeled as ham. We will refer to them as such moving forward.<font/>"
   ]
  },
  {
   "cell_type": "markdown",
   "id": "77396328",
   "metadata": {},
   "source": [
    "<br />\n",
    "<font size=\"3\">Let's take a loot at the distribution of messages labels.<font/>"
   ]
  },
  {
   "cell_type": "code",
   "execution_count": 139,
   "id": "46f27a87",
   "metadata": {},
   "outputs": [
    {
     "name": "stdout",
     "output_type": "stream",
     "text": [
      "Frequency of spam & ham messages:\n",
      "ham     4825\n",
      "spam     747\n",
      "Name: Label, dtype: int64\n",
      "\n",
      "Percentage of spam & ham messages:\n",
      "ham     0.865937\n",
      "spam    0.134063\n",
      "Name: Label, dtype: float64\n"
     ]
    }
   ],
   "source": [
    "# How many spam vs. how many ham\n",
    "print('Frequency of spam & ham messages:')\n",
    "print(sms_spam_collection['Label'].value_counts())\n",
    "print()\n",
    "print('Percentage of spam & ham messages:')\n",
    "print(sms_spam_collection['Label'].value_counts(normalize=True))"
   ]
  },
  {
   "cell_type": "markdown",
   "id": "4f376d9c",
   "metadata": {},
   "source": [
    "<br />\n",
    "<font size=\"3\">Now let's take a look at some of the ham messages.<font/>"
   ]
  },
  {
   "cell_type": "code",
   "execution_count": 140,
   "id": "fd66357f",
   "metadata": {},
   "outputs": [
    {
     "name": "stdout",
     "output_type": "stream",
     "text": [
      "2688                                                                                                                                                                                                       Okie\n",
      "4535                                                                                                                                                                            I have no money 4 steve mate! !\n",
      "5463                                                                                                                                                                                          U GOIN OUT 2NITE?\n",
      "1582                                                                                                                                           Hhahhaahahah rofl wtf nig was leonardo in your room or something\n",
      "3594                                                                                                                                                                                     Sorry, I'll call later\n",
      "4170                                                                                            Haven't heard anything and he's not answering my texts so I'm guessing he flaked. That said the jb is fantastic\n",
      "1749                                     Feel Yourself That You Are Always Happy.. Slowly It Becomes Your Habit &amp; Finally It Becomes Part Of Your Life.. Follow It.. Happy Morning &amp; Have A Happy Day:)\n",
      "4449                                                                                                                                                                                  I sent them. Do you like?\n",
      "3328                                                                                                                                                                        what number do u live at? Is it 11?\n",
      "3951                                                  I got to video tape pple type in message lor. U so free wan 2 help me? Hee... Cos i noe u wan 2 watch infernal affairs so ask u along. Asking shuhui oso.\n",
      "5453                                                                                                                                                                     Except theres a chick with huge boobs.\n",
      "3280    Solve d Case : A Man Was Found Murdered On  &lt;DECIMAL&gt; . &lt;#&gt;  AfterNoon. 1,His wife called Police. 2,Police questioned everyone. 3,Wife: Sir,I was sleeping, when the murder took place. ...\n",
      "3388                                                                                                                                                                               So u workin overtime nigpun?\n",
      "5436                                                                                                                                                                                 Mode men or have you left.\n",
      "4726                                                                                                                                     There'll be a minor shindig at my place later tonight, you interested?\n",
      "Name: SMS, dtype: object\n"
     ]
    }
   ],
   "source": [
    "# Take a look at some non-spam messages\n",
    "ham_messages = sms_spam_collection[sms_spam_collection['Label'] == 'ham']\n",
    "rand_ham_hessages = ham_messages['SMS'].sample(n=15)\n",
    "print(rand_ham_hessages)"
   ]
  },
  {
   "cell_type": "markdown",
   "id": "1e512f27",
   "metadata": {},
   "source": [
    "<br />\n",
    "<font size=\"3\">Now we take a look at some of the spam messages.<font/>"
   ]
  },
  {
   "cell_type": "code",
   "execution_count": 141,
   "id": "4cc80948",
   "metadata": {},
   "outputs": [
    {
     "name": "stdout",
     "output_type": "stream",
     "text": [
      "3009                       Loan for any purpose £500 - £75,000. Homeowners + Tenants welcome. Have you been previously refused? We can still help. Call Free 0800 1956669 or text back 'help'\n",
      "367                     Update_Now - Xmas Offer! Latest Motorola, SonyEricsson & Nokia & FREE Bluetooth! Double Mins & 1000 Txt on Orange. Call MobileUpd8 on 08000839402 or call2optout/F4Q=\n",
      "3864                                                                               Oh my god! I've found your number again! I'm so glad, text me back xafter this msgs cst std ntwk chg £1.50\n",
      "4410                                                                                                        For your chance to WIN a FREE Bluetooth Headset then simply reply back with \"ADP\"\n",
      "797                          Orange customer, you may now claim your FREE CAMERA PHONE upgrade for your loyalty. Call now on 0207 153 9996. Offer ends 14thMarch. T&C's apply. Opt-out availa\n",
      "2556                             FreeMSG You have been awarded a FREE mini DIGITAL CAMERA, just reply SNAP to collect your prize! (quizclub Opt out? Stop 80122300p/wk SP:RWM Ph:08704050406)\n",
      "564                           GENT! We are trying to contact you. Last weekends draw shows that you won a £1000 prize GUARANTEED. Call 09064012160. Claim Code K52. Valid 12hrs only. 150ppm \n",
      "3092                                             LORD OF THE RINGS:RETURN OF THE KING in store NOW!REPLY LOTR by 2 June 4 Chance 2 WIN LOTR soundtrack CDs StdTxtRate. Reply STOP to end txts\n",
      "455                        Loan for any purpose £500 - £75,000. Homeowners + Tenants welcome. Have you been previously refused? We can still help. Call Free 0800 1956669 or text back 'help'\n",
      "2770                                            Burger King - Wanna play footy at a top stadium? Get 2 Burger King before 1st Sept and go Large or Super with Coca-Cola and walk out a winner\n",
      "296                           T-Mobile customer you may now claim your FREE CAMERA PHONE upgrade & a pay & go sim card for your loyalty. Call on 0845 021 3680.Offer ends 28thFeb.T&C's apply\n",
      "235                             Text & meet someone sexy today. U can find a date or even flirt its up to U. Join 4 just 10p. REPLY with NAME & AGE eg Sam 25. 18 -msg recd@thirtyeight pence\n",
      "5190                             Our records indicate u maybe entitled to 5000 pounds in compensation for the Accident you had. To claim 4 free reply with CLAIM to this msg. 2 stop txt STOP\n",
      "2247    Hi ya babe x u 4goten bout me?' scammers getting smart..Though this is a regular vodafone no, if you respond you get further prem rate msg/subscription. Other nos used also. Beware!\n",
      "4571                             Wanna have a laugh? Try CHIT-CHAT on your mobile now! Logon by txting the word: CHAT and send it to No: 8883 CM PO Box 4217 London W1A 6ZF 16+ 118p/msg rcvd\n",
      "Name: SMS, dtype: object\n"
     ]
    }
   ],
   "source": [
    "# Take a look at some full spam message\n",
    "spam_messages = sms_spam_collection[sms_spam_collection['Label'] == 'spam']\n",
    "rand_spam_hessages = spam_messages['SMS'].sample(n=15)\n",
    "print(rand_spam_hessages)"
   ]
  },
  {
   "cell_type": "markdown",
   "id": "0b5bf53c",
   "metadata": {},
   "source": [
    "<br />\n",
    "<font size=\"3\">After running the code cell above a few times it appears there are two features that distinguish spam from ham messages. Phone numbers and money amounts. Let's explore this further.<font/>"
   ]
  },
  {
   "cell_type": "code",
   "execution_count": 142,
   "id": "ce61ab51",
   "metadata": {},
   "outputs": [
    {
     "data": {
      "text/plain": [
       "ham     755\n",
       "spam    708\n",
       "Name: Label, dtype: int64"
      ]
     },
     "execution_count": 142,
     "metadata": {},
     "output_type": "execute_result"
    }
   ],
   "source": [
    "# let's look at messages with numbers\n",
    "messages_with_num = sms_spam_collection[sms_spam_collection['SMS']\\\n",
    "                    .str.contains(r'(?:[0-9]{1,3},(?:[0-9]{3},)*[0-9]{3}|[0-9]+)(?:.[0-9][0-9])?')]\n",
    "messages_with_num['Label'].value_counts()"
   ]
  },
  {
   "cell_type": "markdown",
   "id": "e01b7248",
   "metadata": {},
   "source": [
    "<font size=\"3\">Filtering based on numbers doesn't distingush between the types of messages very well. What if we look at messages containing money symbols?<font/>"
   ]
  },
  {
   "cell_type": "code",
   "execution_count": 143,
   "id": "7d1925ca",
   "metadata": {},
   "outputs": [],
   "source": [
    "messages_with_money = sms_spam_collection[sms_spam_collection['SMS']\\\n",
    "                    .str.contains(r'£(?:[0-9]{1,3},(?:[0-9]{3},)*[0-9]{3}|[0-9]+)(?:.[0-9][0-9])?')]"
   ]
  },
  {
   "cell_type": "code",
   "execution_count": 144,
   "id": "61b03fb7",
   "metadata": {},
   "outputs": [
    {
     "data": {
      "text/plain": [
       "spam    252\n",
       "ham       5\n",
       "Name: Label, dtype: int64"
      ]
     },
     "execution_count": 144,
     "metadata": {},
     "output_type": "execute_result"
    }
   ],
   "source": [
    "messages_with_money['Label'].value_counts()"
   ]
  },
  {
   "cell_type": "markdown",
   "id": "0f48789f",
   "metadata": {},
   "source": [
    "<font size=\"3\">Clearly, having money in the message is a distinguishing feautre of spam messages.</font>"
   ]
  },
  {
   "cell_type": "code",
   "execution_count": 145,
   "id": "e15e867a",
   "metadata": {},
   "outputs": [
    {
     "data": {
      "text/html": [
       "<div>\n",
       "<style scoped>\n",
       "    .dataframe tbody tr th:only-of-type {\n",
       "        vertical-align: middle;\n",
       "    }\n",
       "\n",
       "    .dataframe tbody tr th {\n",
       "        vertical-align: top;\n",
       "    }\n",
       "\n",
       "    .dataframe thead th {\n",
       "        text-align: right;\n",
       "    }\n",
       "</style>\n",
       "<table border=\"1\" class=\"dataframe\">\n",
       "  <thead>\n",
       "    <tr style=\"text-align: right;\">\n",
       "      <th></th>\n",
       "      <th>Label</th>\n",
       "      <th>SMS</th>\n",
       "    </tr>\n",
       "  </thead>\n",
       "  <tbody>\n",
       "    <tr>\n",
       "      <th>1677</th>\n",
       "      <td>ham</td>\n",
       "      <td>Yeah, that's fine! It's £6 to get in, is that ok?</td>\n",
       "    </tr>\n",
       "    <tr>\n",
       "      <th>1724</th>\n",
       "      <td>ham</td>\n",
       "      <td>Hi Jon, Pete here, Ive bin 2 Spain recently &amp; hav sum dinero left, Bill said u or ur rents mayb interested in it, I hav 12,000pes, so around £48, tb, James.</td>\n",
       "    </tr>\n",
       "    <tr>\n",
       "      <th>1998</th>\n",
       "      <td>ham</td>\n",
       "      <td>YEH I AM DEF UP4 SOMETHING SAT,JUST GOT PAYED2DAY &amp; I HAVBEEN GIVEN A£50 PAY RISE 4MY WORK &amp; HAVEBEEN MADE PRESCHOOLCO-ORDINATOR 2I AM FEELINGOOD LUV</td>\n",
       "    </tr>\n",
       "    <tr>\n",
       "      <th>3044</th>\n",
       "      <td>ham</td>\n",
       "      <td>Your bill at 3 is £33.65 so thats not bad!</td>\n",
       "    </tr>\n",
       "    <tr>\n",
       "      <th>3736</th>\n",
       "      <td>ham</td>\n",
       "      <td>It‘s £6 to get in, is that ok?</td>\n",
       "    </tr>\n",
       "  </tbody>\n",
       "</table>\n",
       "</div>"
      ],
      "text/plain": [
       "     Label  \\\n",
       "1677   ham   \n",
       "1724   ham   \n",
       "1998   ham   \n",
       "3044   ham   \n",
       "3736   ham   \n",
       "\n",
       "                                                                                                                                                                SMS  \n",
       "1677                                                                                                             Yeah, that's fine! It's £6 to get in, is that ok?   \n",
       "1724  Hi Jon, Pete here, Ive bin 2 Spain recently & hav sum dinero left, Bill said u or ur rents mayb interested in it, I hav 12,000pes, so around £48, tb, James.  \n",
       "1998          YEH I AM DEF UP4 SOMETHING SAT,JUST GOT PAYED2DAY & I HAVBEEN GIVEN A£50 PAY RISE 4MY WORK & HAVEBEEN MADE PRESCHOOLCO-ORDINATOR 2I AM FEELINGOOD LUV  \n",
       "3044                                                                                                                     Your bill at 3 is £33.65 so thats not bad!  \n",
       "3736                                                                                                                                 It‘s £6 to get in, is that ok?  "
      ]
     },
     "execution_count": 145,
     "metadata": {},
     "output_type": "execute_result"
    }
   ],
   "source": [
    "# here are the 5 ham messages that do have money\n",
    "messages_with_money[messages_with_money['Label'] == 'ham']"
   ]
  },
  {
   "cell_type": "markdown",
   "id": "ae82887c",
   "metadata": {},
   "source": [
    "<br />\n",
    "<font size=\"3\">Another potential differentiating feature is phone numbers. It appears numbers are either 11 or 5 digits long.<font/>"
   ]
  },
  {
   "cell_type": "code",
   "execution_count": 146,
   "id": "73c3da93",
   "metadata": {},
   "outputs": [],
   "source": [
    "messages_with_phone_number = sms_spam_collection[sms_spam_collection['SMS']\\\n",
    "                    .str.contains(r'(?:\\b[0-9]{11}\\b)|(?:\\b[0-9]{5}\\b)')]"
   ]
  },
  {
   "cell_type": "code",
   "execution_count": 147,
   "id": "da7375d3",
   "metadata": {},
   "outputs": [
    {
     "data": {
      "text/plain": [
       "spam    544\n",
       "Name: Label, dtype: int64"
      ]
     },
     "execution_count": 147,
     "metadata": {},
     "output_type": "execute_result"
    }
   ],
   "source": [
    "messages_with_phone_number['Label'].value_counts()"
   ]
  },
  {
   "cell_type": "markdown",
   "id": "773755ad",
   "metadata": {},
   "source": [
    "<font size=\"3\"> Phone numbers clearly distinguish spam from ham messages.</font>\n",
    "<br />\n",
    "<br />"
   ]
  },
  {
   "cell_type": "markdown",
   "id": "7094745a",
   "metadata": {},
   "source": [
    "## Data Cleaning & Feature Engineering"
   ]
  },
  {
   "cell_type": "markdown",
   "id": "14368561",
   "metadata": {},
   "source": [
    "<font size=\"3\">\n",
    "In implementing Naive Bayes Algorithm (NBA) we calculate for each word its conditional probabilities $P(word|spam)$ and $P(word|ham)$. However for some strings in our messages, it may make more sense to group them together into a class. For example, as we saw above, a distinguishing feature of the messages is the prescence of phone numbers. Spam messages tend to have phone numbers of length 11 or 6, while ham messages don't. However, as one might expect, the phone number in each spam message is probably different. Hence, if we just run NBA with individual phone numbers, the phone numbers won't have much of an effect when we run our classifier on the test data since the spam messages in the test data probably have different phone numbers from the spam messages in the training data. Instead, it would be more effective to introduce a phone_num feature that equals the number of times a phone number appears in a message. Similarly, we will also introduce a money_num feature that equals the number of money values in a message.\n",
    "<font/>"
   ]
  },
  {
   "cell_type": "code",
   "execution_count": 148,
   "id": "b05997bb",
   "metadata": {},
   "outputs": [],
   "source": [
    "sms_spam_collection['phone_nums'] = sms_spam_collection['SMS'].str.count(r'(?:\\b[0-9]{11}\\b)|(?:\\b[0-9]{5}\\b)')"
   ]
  },
  {
   "cell_type": "code",
   "execution_count": 149,
   "id": "a40dc19d",
   "metadata": {},
   "outputs": [],
   "source": [
    "sms_spam_collection['money_num'] = sms_spam_collection['SMS']\\\n",
    ".str.count(r'£(?:[0-9]{1,3},(?:[0-9]{3},)*[0-9]{3}|[0-9]+)(?:.[0-9][0-9])?')"
   ]
  },
  {
   "cell_type": "markdown",
   "id": "58f1ec4c",
   "metadata": {},
   "source": [
    "<br />\n",
    "<font size=\"3\">Now let's clean our data and get rid of those numbers<font/>"
   ]
  },
  {
   "cell_type": "code",
   "execution_count": 150,
   "id": "eee0d173",
   "metadata": {},
   "outputs": [],
   "source": [
    "sms_spam_collection['clean_message'] = sms_spam_collection['SMS']\\\n",
    ".str.replace(r'(?:\\b[0-9]{11}\\b)|(?:\\b[0-9]{5}\\b)', ' ', regex=True)\n",
    "sms_spam_collection['clean_message'] = sms_spam_collection['clean_message']\\\n",
    ".str.replace(r'£(?:[0-9]{1,3},(?:[0-9]{3},)*[0-9]{3}|[0-9]+)(?:.[0-9][0-9])?', ' ', regex=True)"
   ]
  },
  {
   "cell_type": "markdown",
   "id": "57fb451f",
   "metadata": {},
   "source": [
    "<br />\n",
    "<font size=\"3\">It's unlikely that nonalphanumeric characters like periods, apostrophes, etc will distinguish between spam and ham messages. We'll further clean our messages by removing them. Also, we will split each message into a list of words.<font/>"
   ]
  },
  {
   "cell_type": "code",
   "execution_count": 151,
   "id": "7311f490",
   "metadata": {},
   "outputs": [],
   "source": [
    "sms_spam_collection['clean_message'] = sms_spam_collection['clean_message'].str.replace(r'\\W', ' ', regex=True).str.split()"
   ]
  },
  {
   "cell_type": "markdown",
   "id": "e0da26b1",
   "metadata": {},
   "source": [
    "### Creating our features table\n",
    "<font size=\"3\">We now create our features table.<font/>"
   ]
  },
  {
   "cell_type": "code",
   "execution_count": 152,
   "id": "d3657605",
   "metadata": {},
   "outputs": [],
   "source": [
    "# Get all the words in the messages and construct a dataframe\n",
    "\n",
    "word_list = []\n",
    "for row in sms_spam_collection['clean_message']:\n",
    "    for word in row:\n",
    "        word_list.append(word)\n",
    "        \n",
    "# make all words in list unique\n",
    "word_list = list(set(word_list))"
   ]
  },
  {
   "cell_type": "code",
   "execution_count": 153,
   "id": "3a54945c",
   "metadata": {},
   "outputs": [
    {
     "data": {
      "text/plain": [
       "10570"
      ]
     },
     "execution_count": 153,
     "metadata": {},
     "output_type": "execute_result"
    }
   ],
   "source": [
    "# very big!\n",
    "len(word_list)"
   ]
  },
  {
   "cell_type": "code",
   "execution_count": 154,
   "id": "98a4e2a1",
   "metadata": {},
   "outputs": [],
   "source": [
    "# Count freq of each word\n",
    "word_count_per_message = {unique_word: [0] * len(sms_spam_collection['clean_message']) for unique_word in word_list}\n",
    "for indx, row in enumerate(sms_spam_collection['clean_message']):\n",
    "    for word in row:\n",
    "        word_count_per_message[word][indx] += 1"
   ]
  },
  {
   "cell_type": "code",
   "execution_count": 155,
   "id": "4a504253",
   "metadata": {},
   "outputs": [
    {
     "data": {
      "text/html": [
       "<div>\n",
       "<style scoped>\n",
       "    .dataframe tbody tr th:only-of-type {\n",
       "        vertical-align: middle;\n",
       "    }\n",
       "\n",
       "    .dataframe tbody tr th {\n",
       "        vertical-align: top;\n",
       "    }\n",
       "\n",
       "    .dataframe thead th {\n",
       "        text-align: right;\n",
       "    }\n",
       "</style>\n",
       "<table border=\"1\" class=\"dataframe\">\n",
       "  <thead>\n",
       "    <tr style=\"text-align: right;\">\n",
       "      <th></th>\n",
       "      <th>Honestly</th>\n",
       "      <th>er</th>\n",
       "      <th>uterus</th>\n",
       "      <th>7ish</th>\n",
       "      <th>yellow</th>\n",
       "      <th>wer</th>\n",
       "      <th>areyouunique</th>\n",
       "      <th>QUITEAMUZING</th>\n",
       "      <th>website</th>\n",
       "      <th>sleepin</th>\n",
       "      <th>...</th>\n",
       "      <th>Ldn</th>\n",
       "      <th>dictionary</th>\n",
       "      <th>About</th>\n",
       "      <th>English</th>\n",
       "      <th>raised</th>\n",
       "      <th>Tel</th>\n",
       "      <th>senses</th>\n",
       "      <th>Sam</th>\n",
       "      <th>ve</th>\n",
       "      <th>Nic</th>\n",
       "    </tr>\n",
       "  </thead>\n",
       "  <tbody>\n",
       "    <tr>\n",
       "      <th>0</th>\n",
       "      <td>0</td>\n",
       "      <td>0</td>\n",
       "      <td>0</td>\n",
       "      <td>0</td>\n",
       "      <td>0</td>\n",
       "      <td>0</td>\n",
       "      <td>0</td>\n",
       "      <td>0</td>\n",
       "      <td>0</td>\n",
       "      <td>0</td>\n",
       "      <td>...</td>\n",
       "      <td>0</td>\n",
       "      <td>0</td>\n",
       "      <td>0</td>\n",
       "      <td>0</td>\n",
       "      <td>0</td>\n",
       "      <td>0</td>\n",
       "      <td>0</td>\n",
       "      <td>0</td>\n",
       "      <td>0</td>\n",
       "      <td>0</td>\n",
       "    </tr>\n",
       "    <tr>\n",
       "      <th>1</th>\n",
       "      <td>0</td>\n",
       "      <td>0</td>\n",
       "      <td>0</td>\n",
       "      <td>0</td>\n",
       "      <td>0</td>\n",
       "      <td>0</td>\n",
       "      <td>0</td>\n",
       "      <td>0</td>\n",
       "      <td>0</td>\n",
       "      <td>0</td>\n",
       "      <td>...</td>\n",
       "      <td>0</td>\n",
       "      <td>0</td>\n",
       "      <td>0</td>\n",
       "      <td>0</td>\n",
       "      <td>0</td>\n",
       "      <td>0</td>\n",
       "      <td>0</td>\n",
       "      <td>0</td>\n",
       "      <td>0</td>\n",
       "      <td>0</td>\n",
       "    </tr>\n",
       "    <tr>\n",
       "      <th>2</th>\n",
       "      <td>0</td>\n",
       "      <td>0</td>\n",
       "      <td>0</td>\n",
       "      <td>0</td>\n",
       "      <td>0</td>\n",
       "      <td>0</td>\n",
       "      <td>0</td>\n",
       "      <td>0</td>\n",
       "      <td>0</td>\n",
       "      <td>0</td>\n",
       "      <td>...</td>\n",
       "      <td>0</td>\n",
       "      <td>0</td>\n",
       "      <td>0</td>\n",
       "      <td>0</td>\n",
       "      <td>0</td>\n",
       "      <td>0</td>\n",
       "      <td>0</td>\n",
       "      <td>0</td>\n",
       "      <td>0</td>\n",
       "      <td>0</td>\n",
       "    </tr>\n",
       "    <tr>\n",
       "      <th>3</th>\n",
       "      <td>0</td>\n",
       "      <td>0</td>\n",
       "      <td>0</td>\n",
       "      <td>0</td>\n",
       "      <td>0</td>\n",
       "      <td>0</td>\n",
       "      <td>0</td>\n",
       "      <td>0</td>\n",
       "      <td>0</td>\n",
       "      <td>0</td>\n",
       "      <td>...</td>\n",
       "      <td>0</td>\n",
       "      <td>0</td>\n",
       "      <td>0</td>\n",
       "      <td>0</td>\n",
       "      <td>0</td>\n",
       "      <td>0</td>\n",
       "      <td>0</td>\n",
       "      <td>0</td>\n",
       "      <td>0</td>\n",
       "      <td>0</td>\n",
       "    </tr>\n",
       "    <tr>\n",
       "      <th>4</th>\n",
       "      <td>0</td>\n",
       "      <td>0</td>\n",
       "      <td>0</td>\n",
       "      <td>0</td>\n",
       "      <td>0</td>\n",
       "      <td>0</td>\n",
       "      <td>0</td>\n",
       "      <td>0</td>\n",
       "      <td>0</td>\n",
       "      <td>0</td>\n",
       "      <td>...</td>\n",
       "      <td>0</td>\n",
       "      <td>0</td>\n",
       "      <td>0</td>\n",
       "      <td>0</td>\n",
       "      <td>0</td>\n",
       "      <td>0</td>\n",
       "      <td>0</td>\n",
       "      <td>0</td>\n",
       "      <td>0</td>\n",
       "      <td>0</td>\n",
       "    </tr>\n",
       "  </tbody>\n",
       "</table>\n",
       "<p>5 rows × 10570 columns</p>\n",
       "</div>"
      ],
      "text/plain": [
       "   Honestly  er  uterus  7ish  yellow  wer  areyouunique  QUITEAMUZING  \\\n",
       "0         0   0       0     0       0    0             0             0   \n",
       "1         0   0       0     0       0    0             0             0   \n",
       "2         0   0       0     0       0    0             0             0   \n",
       "3         0   0       0     0       0    0             0             0   \n",
       "4         0   0       0     0       0    0             0             0   \n",
       "\n",
       "   website  sleepin  ...  Ldn  dictionary  About  English  raised  Tel  \\\n",
       "0        0        0  ...    0           0      0        0       0    0   \n",
       "1        0        0  ...    0           0      0        0       0    0   \n",
       "2        0        0  ...    0           0      0        0       0    0   \n",
       "3        0        0  ...    0           0      0        0       0    0   \n",
       "4        0        0  ...    0           0      0        0       0    0   \n",
       "\n",
       "   senses  Sam  ve  Nic  \n",
       "0       0    0   0    0  \n",
       "1       0    0   0    0  \n",
       "2       0    0   0    0  \n",
       "3       0    0   0    0  \n",
       "4       0    0   0    0  \n",
       "\n",
       "[5 rows x 10570 columns]"
      ]
     },
     "execution_count": 155,
     "metadata": {},
     "output_type": "execute_result"
    }
   ],
   "source": [
    "# convert to dataframe and then concatanate to our original dataframe\n",
    "words_dataframe = pd.DataFrame(word_count_per_message)\n",
    "\n",
    "# dataframe of all the unique words in our messages plus the phone_nums and money_num columns\n",
    "words_dataframe.head()"
   ]
  },
  {
   "cell_type": "code",
   "execution_count": 156,
   "id": "3716fdb8",
   "metadata": {},
   "outputs": [],
   "source": [
    "# reorganize columns of sms_spam_collection\n",
    "cols = ['Label', 'SMS', 'clean_message','phone_nums','money_num']\n",
    "sms_spam_collection = sms_spam_collection[cols]"
   ]
  },
  {
   "cell_type": "code",
   "execution_count": 171,
   "id": "ccfc5cf0",
   "metadata": {},
   "outputs": [],
   "source": [
    "# To make sure that none of the words in our words dataframe are the same as any of the column names in the\n",
    "# sms_spam_collection dataframe, we will add an underscore to some of the current columns names in sms_spam_collection\n",
    "# before we concatanate the two dataframes.\n",
    "sms_spam_collection.columns = ['Label_', 'SMS_', 'clean_message','phone_nums','money_num']"
   ]
  },
  {
   "cell_type": "code",
   "execution_count": 172,
   "id": "db9b0ed6",
   "metadata": {},
   "outputs": [
    {
     "data": {
      "text/html": [
       "<div>\n",
       "<style scoped>\n",
       "    .dataframe tbody tr th:only-of-type {\n",
       "        vertical-align: middle;\n",
       "    }\n",
       "\n",
       "    .dataframe tbody tr th {\n",
       "        vertical-align: top;\n",
       "    }\n",
       "\n",
       "    .dataframe thead th {\n",
       "        text-align: right;\n",
       "    }\n",
       "</style>\n",
       "<table border=\"1\" class=\"dataframe\">\n",
       "  <thead>\n",
       "    <tr style=\"text-align: right;\">\n",
       "      <th></th>\n",
       "      <th>Label_</th>\n",
       "      <th>SMS_</th>\n",
       "      <th>clean_message</th>\n",
       "      <th>phone_nums</th>\n",
       "      <th>money_num</th>\n",
       "      <th>Honestly</th>\n",
       "      <th>er</th>\n",
       "      <th>uterus</th>\n",
       "      <th>7ish</th>\n",
       "      <th>yellow</th>\n",
       "      <th>...</th>\n",
       "      <th>Ldn</th>\n",
       "      <th>dictionary</th>\n",
       "      <th>About</th>\n",
       "      <th>English</th>\n",
       "      <th>raised</th>\n",
       "      <th>Tel</th>\n",
       "      <th>senses</th>\n",
       "      <th>Sam</th>\n",
       "      <th>ve</th>\n",
       "      <th>Nic</th>\n",
       "    </tr>\n",
       "  </thead>\n",
       "  <tbody>\n",
       "    <tr>\n",
       "      <th>0</th>\n",
       "      <td>ham</td>\n",
       "      <td>Go until jurong point, crazy.. Available only in bugis n great world la e buffet... Cine there got amore wat...</td>\n",
       "      <td>[Go, until, jurong, point, crazy, Available, only, in, bugis, n, great, world, la, e, buffet, Cine, there, got, amore, wat]</td>\n",
       "      <td>0</td>\n",
       "      <td>0</td>\n",
       "      <td>0</td>\n",
       "      <td>0</td>\n",
       "      <td>0</td>\n",
       "      <td>0</td>\n",
       "      <td>0</td>\n",
       "      <td>...</td>\n",
       "      <td>0</td>\n",
       "      <td>0</td>\n",
       "      <td>0</td>\n",
       "      <td>0</td>\n",
       "      <td>0</td>\n",
       "      <td>0</td>\n",
       "      <td>0</td>\n",
       "      <td>0</td>\n",
       "      <td>0</td>\n",
       "      <td>0</td>\n",
       "    </tr>\n",
       "    <tr>\n",
       "      <th>1</th>\n",
       "      <td>ham</td>\n",
       "      <td>Ok lar... Joking wif u oni...</td>\n",
       "      <td>[Ok, lar, Joking, wif, u, oni]</td>\n",
       "      <td>0</td>\n",
       "      <td>0</td>\n",
       "      <td>0</td>\n",
       "      <td>0</td>\n",
       "      <td>0</td>\n",
       "      <td>0</td>\n",
       "      <td>0</td>\n",
       "      <td>...</td>\n",
       "      <td>0</td>\n",
       "      <td>0</td>\n",
       "      <td>0</td>\n",
       "      <td>0</td>\n",
       "      <td>0</td>\n",
       "      <td>0</td>\n",
       "      <td>0</td>\n",
       "      <td>0</td>\n",
       "      <td>0</td>\n",
       "      <td>0</td>\n",
       "    </tr>\n",
       "    <tr>\n",
       "      <th>2</th>\n",
       "      <td>spam</td>\n",
       "      <td>Free entry in 2 a wkly comp to win FA Cup final tkts 21st May 2005. Text FA to 87121 to receive entry question(std txt rate)T&amp;C's apply 08452810075over18's</td>\n",
       "      <td>[Free, entry, in, 2, a, wkly, comp, to, win, FA, Cup, final, tkts, 21st, May, 2005, Text, FA, to, to, receive, entry, question, std, txt, rate, T, C, s, apply, 08452810075over18, s]</td>\n",
       "      <td>1</td>\n",
       "      <td>0</td>\n",
       "      <td>0</td>\n",
       "      <td>0</td>\n",
       "      <td>0</td>\n",
       "      <td>0</td>\n",
       "      <td>0</td>\n",
       "      <td>...</td>\n",
       "      <td>0</td>\n",
       "      <td>0</td>\n",
       "      <td>0</td>\n",
       "      <td>0</td>\n",
       "      <td>0</td>\n",
       "      <td>0</td>\n",
       "      <td>0</td>\n",
       "      <td>0</td>\n",
       "      <td>0</td>\n",
       "      <td>0</td>\n",
       "    </tr>\n",
       "    <tr>\n",
       "      <th>3</th>\n",
       "      <td>ham</td>\n",
       "      <td>U dun say so early hor... U c already then say...</td>\n",
       "      <td>[U, dun, say, so, early, hor, U, c, already, then, say]</td>\n",
       "      <td>0</td>\n",
       "      <td>0</td>\n",
       "      <td>0</td>\n",
       "      <td>0</td>\n",
       "      <td>0</td>\n",
       "      <td>0</td>\n",
       "      <td>0</td>\n",
       "      <td>...</td>\n",
       "      <td>0</td>\n",
       "      <td>0</td>\n",
       "      <td>0</td>\n",
       "      <td>0</td>\n",
       "      <td>0</td>\n",
       "      <td>0</td>\n",
       "      <td>0</td>\n",
       "      <td>0</td>\n",
       "      <td>0</td>\n",
       "      <td>0</td>\n",
       "    </tr>\n",
       "    <tr>\n",
       "      <th>4</th>\n",
       "      <td>ham</td>\n",
       "      <td>Nah I don't think he goes to usf, he lives around here though</td>\n",
       "      <td>[Nah, I, don, t, think, he, goes, to, usf, he, lives, around, here, though]</td>\n",
       "      <td>0</td>\n",
       "      <td>0</td>\n",
       "      <td>0</td>\n",
       "      <td>0</td>\n",
       "      <td>0</td>\n",
       "      <td>0</td>\n",
       "      <td>0</td>\n",
       "      <td>...</td>\n",
       "      <td>0</td>\n",
       "      <td>0</td>\n",
       "      <td>0</td>\n",
       "      <td>0</td>\n",
       "      <td>0</td>\n",
       "      <td>0</td>\n",
       "      <td>0</td>\n",
       "      <td>0</td>\n",
       "      <td>0</td>\n",
       "      <td>0</td>\n",
       "    </tr>\n",
       "  </tbody>\n",
       "</table>\n",
       "<p>5 rows × 10575 columns</p>\n",
       "</div>"
      ],
      "text/plain": [
       "  Label_  \\\n",
       "0    ham   \n",
       "1    ham   \n",
       "2   spam   \n",
       "3    ham   \n",
       "4    ham   \n",
       "\n",
       "                                                                                                                                                          SMS_  \\\n",
       "0                                              Go until jurong point, crazy.. Available only in bugis n great world la e buffet... Cine there got amore wat...   \n",
       "1                                                                                                                                Ok lar... Joking wif u oni...   \n",
       "2  Free entry in 2 a wkly comp to win FA Cup final tkts 21st May 2005. Text FA to 87121 to receive entry question(std txt rate)T&C's apply 08452810075over18's   \n",
       "3                                                                                                            U dun say so early hor... U c already then say...   \n",
       "4                                                                                                Nah I don't think he goes to usf, he lives around here though   \n",
       "\n",
       "                                                                                                                                                                           clean_message  \\\n",
       "0                                                            [Go, until, jurong, point, crazy, Available, only, in, bugis, n, great, world, la, e, buffet, Cine, there, got, amore, wat]   \n",
       "1                                                                                                                                                         [Ok, lar, Joking, wif, u, oni]   \n",
       "2  [Free, entry, in, 2, a, wkly, comp, to, win, FA, Cup, final, tkts, 21st, May, 2005, Text, FA, to, to, receive, entry, question, std, txt, rate, T, C, s, apply, 08452810075over18, s]   \n",
       "3                                                                                                                                [U, dun, say, so, early, hor, U, c, already, then, say]   \n",
       "4                                                                                                            [Nah, I, don, t, think, he, goes, to, usf, he, lives, around, here, though]   \n",
       "\n",
       "   phone_nums  money_num  Honestly  er  uterus  7ish  yellow  ...  Ldn  \\\n",
       "0           0          0         0   0       0     0       0  ...    0   \n",
       "1           0          0         0   0       0     0       0  ...    0   \n",
       "2           1          0         0   0       0     0       0  ...    0   \n",
       "3           0          0         0   0       0     0       0  ...    0   \n",
       "4           0          0         0   0       0     0       0  ...    0   \n",
       "\n",
       "   dictionary  About  English  raised  Tel  senses  Sam  ve  Nic  \n",
       "0           0      0        0       0    0       0    0   0    0  \n",
       "1           0      0        0       0    0       0    0   0    0  \n",
       "2           0      0        0       0    0       0    0   0    0  \n",
       "3           0      0        0       0    0       0    0   0    0  \n",
       "4           0      0        0       0    0       0    0   0    0  \n",
       "\n",
       "[5 rows x 10575 columns]"
      ]
     },
     "execution_count": 172,
     "metadata": {},
     "output_type": "execute_result"
    }
   ],
   "source": [
    "# concatanate words dataframe to sms_spam_collection dataframe\n",
    "full_df = pd.concat([sms_spam_collection, words_dataframe],axis=1)\n",
    "full_df.head()"
   ]
  },
  {
   "cell_type": "markdown",
   "id": "d9ba72fb",
   "metadata": {},
   "source": [
    "## Split data into train and test set\n",
    "<font size=\"3\">Now we split our dataframe into a train and test set<font/>"
   ]
  },
  {
   "cell_type": "code",
   "execution_count": 173,
   "id": "abeb8b31",
   "metadata": {},
   "outputs": [],
   "source": [
    "# First randomize the dataset\n",
    "data_randomized = full_df.sample(frac=1, random_state=1)\n",
    "\n",
    "rows = len(data_randomized)\n",
    "train = data_randomized[:round(rows*0.8)].reset_index(drop=True)\n",
    "test = data_randomized[round(rows*0.8):].reset_index(drop=True)"
   ]
  },
  {
   "cell_type": "markdown",
   "id": "1cb5dd22",
   "metadata": {},
   "source": [
    "## Model Training"
   ]
  },
  {
   "cell_type": "markdown",
   "id": "1d8c5577",
   "metadata": {},
   "source": [
    "Now we build our classifier. For each message we calculate $P(Spam|message)$ & $P(Ham|message)$. If the first probability is higher we classify the message as spam and vice-versa. Now,\n",
    "\\begin{equation*}\n",
    "P(spam|message) = P(spam|w_1, w_2, ... ,w_n) = P(spam|w_1 \\cap w_2 \\cap ... \\cap w_n)\n",
    "\\end{equation*}\n",
    "where $w_1, w_2, ... w_n$ are the words in message.\n",
    "<br />\n",
    "Then, we have:\n",
    "\\begin{equation*}\n",
    "P(spam|w_1 \\cap w_2 \\cap ... \\cap w_n) = \\frac{P(spam \\cap w_1 \\cap w_2 \\cap ... \\cap w_n)}{P(w_1 \\cap w_2 \\cap ... \\cap w_n)} =\n",
    "\\end{equation*}\n",
    "<br />\n",
    "\\begin{equation*}\n",
    "\\frac{P(w_1 \\cap w_2 \\cap ... \\cap w_n|spam) * P(spam)}{P(w_1 \\cap w_2 \\cap ... \\cap w_n)} \\propto P(w_1 \\cap w_2 \\cap ... \\cap w_n|spam) * P(spam)\n",
    "\\end{equation*}\n",
    "by Baye's theorem.\n",
    "<br />\n",
    "Finally, we assume conditional independence so our final result is:\n",
    "\n",
    "\\begin{equation*}\n",
    "P(spam|message) \\propto P(w_1 \\cap w_2 \\cap ... \\cap w_n|spam) * P(spam) = \\prod_{i = 1}^{n}P(w_i|spam) * P(spam)\n",
    "\\end{equation*}\n",
    "\n",
    "We calculate $P(w_i|spam)$ as follows:\n",
    "\\begin{equation*}\n",
    "P(w_i|spam) = \\frac{(n\\_w_i\\_spam + \\alpha)}{(n\\_spam + \\alpha * n\\_vocab)}\n",
    "\\end{equation*}\n",
    "where:\n",
    "* $n\\_w_i\\_spam$ is number of times $w_i$ appears in spam messages\n",
    "* $n\\_spam$ is number of words in spam messages\n",
    "* $n\\_vocab$ is the total number of words in the messages\n",
    "* $\\alpha$ is a smoothing parameter we will set to 1\n",
    "\n",
    "$P(ham|message)$ is calculated analogously.\n",
    "\n",
    "*Note: Below we will also build the classifier using sklearn's NB module and compare results.*"
   ]
  },
  {
   "cell_type": "code",
   "execution_count": 175,
   "id": "0359fcd2",
   "metadata": {},
   "outputs": [],
   "source": [
    "# Calculate p_spam, p_ham, n_vocab n_ham & n_spam\n",
    "alpha = 1\n",
    "\n",
    "p_spam = round(float(len(train[train['Label_'] == 'spam'])) / len(train), 2)\n",
    "p_ham = 1 - p_spam\n",
    "\n",
    "n_vocab = train['clean_message'].apply(len).sum()\n",
    "\n",
    "n_ham = train[train['Label_'] == 'ham']['clean_message'].apply(len).sum()\n",
    "n_spam = n_vocab - n_ham"
   ]
  },
  {
   "cell_type": "code",
   "execution_count": 176,
   "id": "413efb9a",
   "metadata": {},
   "outputs": [],
   "source": [
    "# now we calculate probability for each word: p(w_i|spam)\n",
    "prob_of_word_given_spam = {}\n",
    "prob_of_word_given_ham = {}\n",
    "train_spam = train[train['Label_'] == 'spam']\n",
    "train_ham = train[train['Label_'] == 'ham']\n",
    "for word in word_list:\n",
    "    n_wi_spam = train_spam[word].sum()\n",
    "    n_wi_ham = train_ham[word].sum()\n",
    "    prob_of_word_given_spam[word] = (n_wi_spam + alpha) / (n_spam + alpha * n_vocab)\n",
    "    prob_of_word_given_ham[word] = (n_wi_ham + alpha) / (n_ham + alpha * n_vocab)"
   ]
  },
  {
   "cell_type": "markdown",
   "id": "a4af2092",
   "metadata": {},
   "source": [
    "<br />\n",
    "<font size=\"3\">Now we can build our classifier!<font/>"
   ]
  },
  {
   "cell_type": "code",
   "execution_count": 177,
   "id": "e5b5624f",
   "metadata": {},
   "outputs": [],
   "source": [
    "# the message we take in is already cleaned and is split into a list of words\n",
    "def classify(message):\n",
    "    p_spam_given_message = p_spam\n",
    "    p_ham_given_message = p_ham\n",
    "    for word in message:\n",
    "        p_spam_given_message *= prob_of_word_given_spam[word]\n",
    "        p_ham_given_message *= prob_of_word_given_ham[word]\n",
    "        \n",
    "    if (p_spam_given_message > p_ham_given_message):\n",
    "        return 'spam'\n",
    "    elif (p_spam_given_message < p_ham_given_message):\n",
    "        return 'ham'\n",
    "    return 'Could not classify'"
   ]
  },
  {
   "cell_type": "markdown",
   "id": "d8b43b58",
   "metadata": {},
   "source": [
    "## Predict the Results"
   ]
  },
  {
   "cell_type": "code",
   "execution_count": 178,
   "id": "ae231dcc",
   "metadata": {},
   "outputs": [],
   "source": [
    "# Now let's get our predictions\n",
    "predictions = test['clean_message'].apply(classify)"
   ]
  },
  {
   "cell_type": "markdown",
   "id": "e88cbf71",
   "metadata": {},
   "source": [
    "## Check Accuracy"
   ]
  },
  {
   "cell_type": "code",
   "execution_count": 181,
   "id": "5d4418b6",
   "metadata": {},
   "outputs": [
    {
     "name": "stdout",
     "output_type": "stream",
     "text": [
      "Accuracy is:  97.30700179533214\n"
     ]
    }
   ],
   "source": [
    "print('Accuracy is: ', (sum(predictions == test['Label_']) / len(predictions)) * 100)"
   ]
  },
  {
   "cell_type": "code",
   "execution_count": 183,
   "id": "bcf36c48",
   "metadata": {},
   "outputs": [
    {
     "name": "stdout",
     "output_type": "stream",
     "text": [
      "30\n"
     ]
    },
    {
     "data": {
      "text/html": [
       "<div>\n",
       "<style scoped>\n",
       "    .dataframe tbody tr th:only-of-type {\n",
       "        vertical-align: middle;\n",
       "    }\n",
       "\n",
       "    .dataframe tbody tr th {\n",
       "        vertical-align: top;\n",
       "    }\n",
       "\n",
       "    .dataframe thead th {\n",
       "        text-align: right;\n",
       "    }\n",
       "</style>\n",
       "<table border=\"1\" class=\"dataframe\">\n",
       "  <thead>\n",
       "    <tr style=\"text-align: right;\">\n",
       "      <th></th>\n",
       "      <th>Label_</th>\n",
       "      <th>SMS_</th>\n",
       "    </tr>\n",
       "  </thead>\n",
       "  <tbody>\n",
       "    <tr>\n",
       "      <th>51</th>\n",
       "      <td>spam</td>\n",
       "      <td>FreeMsg: Hey - I'm Buffy. 25 and love to satisfy men. Home alone feeling randy. Reply 2 C my PIX! QlynnBV Help08700621170150p a msg Send stop to stop txts</td>\n",
       "    </tr>\n",
       "    <tr>\n",
       "      <th>114</th>\n",
       "      <td>spam</td>\n",
       "      <td>Not heard from U4 a while. Call me now am here all night with just my knickers on. Make me beg for it like U did last time 01223585236 XX Luv Nikiyu4.net</td>\n",
       "    </tr>\n",
       "    <tr>\n",
       "      <th>135</th>\n",
       "      <td>spam</td>\n",
       "      <td>More people are dogging in your area now. Call 09090204448 and join like minded guys. Why not arrange 1 yourself. There's 1 this evening. A£1.50 minAPN LS278BB</td>\n",
       "    </tr>\n",
       "    <tr>\n",
       "      <th>141</th>\n",
       "      <td>spam</td>\n",
       "      <td>Dear Voucher Holder 2 claim your 1st class airport lounge passes when using Your holiday voucher call 08704439680. When booking quote 1st class x 2</td>\n",
       "    </tr>\n",
       "    <tr>\n",
       "      <th>180</th>\n",
       "      <td>spam</td>\n",
       "      <td>Win the newest Harry Potter and the Order of the Phoenix (Book 5) reply HARRY, answer 5 questions - chance to be the first among readers!</td>\n",
       "    </tr>\n",
       "    <tr>\n",
       "      <th>263</th>\n",
       "      <td>spam</td>\n",
       "      <td>TheMob&gt;Yo yo yo-Here comes a new selection of hot downloads for our members to get for FREE! Just click &amp; open the next link sent to ur fone...</td>\n",
       "    </tr>\n",
       "    <tr>\n",
       "      <th>284</th>\n",
       "      <td>ham</td>\n",
       "      <td>Nokia phone is lovly..</td>\n",
       "    </tr>\n",
       "    <tr>\n",
       "      <th>293</th>\n",
       "      <td>ham</td>\n",
       "      <td>A Boy loved a gal. He propsd bt she didnt mind. He gv lv lttrs, Bt her frnds threw thm. Again d boy decided 2 aproach d gal , dt time a truck was speeding towards d gal. Wn it was about 2 hit d gi...</td>\n",
       "    </tr>\n",
       "    <tr>\n",
       "      <th>343</th>\n",
       "      <td>spam</td>\n",
       "      <td>U have a secret admirer who is looking 2 make contact with U-find out who they R*reveal who thinks UR so special-call on 09058094565</td>\n",
       "    </tr>\n",
       "    <tr>\n",
       "      <th>363</th>\n",
       "      <td>spam</td>\n",
       "      <td>Email AlertFrom: Jeri StewartSize: 2KBSubject: Low-cost prescripiton drvgsTo listen to email call 123</td>\n",
       "    </tr>\n",
       "    <tr>\n",
       "      <th>453</th>\n",
       "      <td>spam</td>\n",
       "      <td>As a registered optin subscriber ur draw 4 £100 gift voucher will be entered on receipt of a correct ans to 80062 Whats No1 in the BBC charts</td>\n",
       "    </tr>\n",
       "    <tr>\n",
       "      <th>466</th>\n",
       "      <td>spam</td>\n",
       "      <td>You won't believe it but it's true. It's Incredible Txts! Reply G now to learn truly amazing things that will blow your mind. From O2FWD only 18p/txt</td>\n",
       "    </tr>\n",
       "    <tr>\n",
       "      <th>481</th>\n",
       "      <td>spam</td>\n",
       "      <td>Marvel Mobile Play the official Ultimate Spider-man game (£4.50) on ur mobile right now. Text SPIDER to 83338 for the game &amp; we ll send u a FREE 8Ball wallpaper</td>\n",
       "    </tr>\n",
       "    <tr>\n",
       "      <th>500</th>\n",
       "      <td>spam</td>\n",
       "      <td>Ur balance is now £600. Next question: Complete the landmark, Big, A. Bob, B. Barry or C. Ben ?. Text A, B or C to 83738. Good luck!</td>\n",
       "    </tr>\n",
       "    <tr>\n",
       "      <th>504</th>\n",
       "      <td>spam</td>\n",
       "      <td>Oh my god! I've found your number again! I'm so glad, text me back xafter this msgs cst std ntwk chg £1.50</td>\n",
       "    </tr>\n",
       "    <tr>\n",
       "      <th>512</th>\n",
       "      <td>spam</td>\n",
       "      <td>Sorry! U can not unsubscribe yet. THE MOB offer package has a min term of 54 weeks&gt; pls resubmit request after expiry. Reply THEMOB HELP 4 more info</td>\n",
       "    </tr>\n",
       "    <tr>\n",
       "      <th>546</th>\n",
       "      <td>spam</td>\n",
       "      <td>Hi babe its Chloe, how r u? I was smashed on saturday night, it was great! How was your weekend? U been missing me? SP visionsms.com Text stop to stop 150p/text</td>\n",
       "    </tr>\n",
       "    <tr>\n",
       "      <th>649</th>\n",
       "      <td>spam</td>\n",
       "      <td>Am new 2 club &amp; dont fink we met yet Will B gr8 2 C U Please leave msg 2day wiv ur area 09099726553 reply promised CARLIE x Calls£1/minMobsmore LKPOBOX177HP51FL</td>\n",
       "    </tr>\n",
       "    <tr>\n",
       "      <th>653</th>\n",
       "      <td>spam</td>\n",
       "      <td>Hi, the SEXYCHAT girls are waiting for you to text them. Text now for a great night chatting. send STOP to stop this service</td>\n",
       "    </tr>\n",
       "    <tr>\n",
       "      <th>673</th>\n",
       "      <td>spam</td>\n",
       "      <td>Burger King - Wanna play footy at a top stadium? Get 2 Burger King before 1st Sept and go Large or Super with Coca-Cola and walk out a winner</td>\n",
       "    </tr>\n",
       "    <tr>\n",
       "      <th>741</th>\n",
       "      <td>spam</td>\n",
       "      <td>0A$NETWORKS allow companies to bill for SMS, so they are responsible for their \"suppliers\", just as a shop has to give a guarantee on what they sell. B. G.</td>\n",
       "    </tr>\n",
       "    <tr>\n",
       "      <th>857</th>\n",
       "      <td>spam</td>\n",
       "      <td>U have a secret admirer who is looking 2 make contact with U-find out who they R*reveal who thinks UR so special-call on 09058094594</td>\n",
       "    </tr>\n",
       "    <tr>\n",
       "      <th>873</th>\n",
       "      <td>spam</td>\n",
       "      <td>&lt;Forwarded from 448712404000&gt;Please CALL 08712404000 immediately as there is an urgent message waiting for you.</td>\n",
       "    </tr>\n",
       "    <tr>\n",
       "      <th>876</th>\n",
       "      <td>spam</td>\n",
       "      <td>RCT' THNQ Adrian for U text. Rgds Vatian</td>\n",
       "    </tr>\n",
       "    <tr>\n",
       "      <th>885</th>\n",
       "      <td>spam</td>\n",
       "      <td>2/2 146tf150p</td>\n",
       "    </tr>\n",
       "    <tr>\n",
       "      <th>917</th>\n",
       "      <td>spam</td>\n",
       "      <td>Dont forget you can place as many FREE Requests with 1stchoice.co.uk as you wish. For more Information call 08707808226.</td>\n",
       "    </tr>\n",
       "    <tr>\n",
       "      <th>953</th>\n",
       "      <td>spam</td>\n",
       "      <td>Hello. We need some posh birds and chaps to user trial prods for champneys. Can i put you down? I need your address and dob asap. Ta r</td>\n",
       "    </tr>\n",
       "    <tr>\n",
       "      <th>977</th>\n",
       "      <td>spam</td>\n",
       "      <td>ringtoneking 84484</td>\n",
       "    </tr>\n",
       "    <tr>\n",
       "      <th>1006</th>\n",
       "      <td>spam</td>\n",
       "      <td>A link to your picture has been sent. You can also use http://alto18.co.uk/wave/wave.asp?o=44345</td>\n",
       "    </tr>\n",
       "    <tr>\n",
       "      <th>1048</th>\n",
       "      <td>spam</td>\n",
       "      <td>FreeMsg:Feelin kinda lnly hope u like 2 keep me company! Jst got a cam moby wanna c my pic?Txt or reply DATE to 82242 Msg150p 2rcv Hlp 08712317606 stop to 82242</td>\n",
       "    </tr>\n",
       "  </tbody>\n",
       "</table>\n",
       "</div>"
      ],
      "text/plain": [
       "     Label_  \\\n",
       "51     spam   \n",
       "114    spam   \n",
       "135    spam   \n",
       "141    spam   \n",
       "180    spam   \n",
       "263    spam   \n",
       "284     ham   \n",
       "293     ham   \n",
       "343    spam   \n",
       "363    spam   \n",
       "453    spam   \n",
       "466    spam   \n",
       "481    spam   \n",
       "500    spam   \n",
       "504    spam   \n",
       "512    spam   \n",
       "546    spam   \n",
       "649    spam   \n",
       "653    spam   \n",
       "673    spam   \n",
       "741    spam   \n",
       "857    spam   \n",
       "873    spam   \n",
       "876    spam   \n",
       "885    spam   \n",
       "917    spam   \n",
       "953    spam   \n",
       "977    spam   \n",
       "1006   spam   \n",
       "1048   spam   \n",
       "\n",
       "                                                                                                                                                                                                         SMS_  \n",
       "51                                                 FreeMsg: Hey - I'm Buffy. 25 and love to satisfy men. Home alone feeling randy. Reply 2 C my PIX! QlynnBV Help08700621170150p a msg Send stop to stop txts  \n",
       "114                                                 Not heard from U4 a while. Call me now am here all night with just my knickers on. Make me beg for it like U did last time 01223585236 XX Luv Nikiyu4.net  \n",
       "135                                           More people are dogging in your area now. Call 09090204448 and join like minded guys. Why not arrange 1 yourself. There's 1 this evening. A£1.50 minAPN LS278BB  \n",
       "141                                                       Dear Voucher Holder 2 claim your 1st class airport lounge passes when using Your holiday voucher call 08704439680. When booking quote 1st class x 2  \n",
       "180                                                                Win the newest Harry Potter and the Order of the Phoenix (Book 5) reply HARRY, answer 5 questions - chance to be the first among readers!  \n",
       "263                                                           TheMob>Yo yo yo-Here comes a new selection of hot downloads for our members to get for FREE! Just click & open the next link sent to ur fone...  \n",
       "284                                                                                                                                                                                    Nokia phone is lovly..  \n",
       "293   A Boy loved a gal. He propsd bt she didnt mind. He gv lv lttrs, Bt her frnds threw thm. Again d boy decided 2 aproach d gal , dt time a truck was speeding towards d gal. Wn it was about 2 hit d gi...  \n",
       "343                                                                      U have a secret admirer who is looking 2 make contact with U-find out who they R*reveal who thinks UR so special-call on 09058094565  \n",
       "363                                                                                                     Email AlertFrom: Jeri StewartSize: 2KBSubject: Low-cost prescripiton drvgsTo listen to email call 123  \n",
       "453                                                             As a registered optin subscriber ur draw 4 £100 gift voucher will be entered on receipt of a correct ans to 80062 Whats No1 in the BBC charts  \n",
       "466                                                     You won't believe it but it's true. It's Incredible Txts! Reply G now to learn truly amazing things that will blow your mind. From O2FWD only 18p/txt  \n",
       "481                                          Marvel Mobile Play the official Ultimate Spider-man game (£4.50) on ur mobile right now. Text SPIDER to 83338 for the game & we ll send u a FREE 8Ball wallpaper  \n",
       "500                                                                      Ur balance is now £600. Next question: Complete the landmark, Big, A. Bob, B. Barry or C. Ben ?. Text A, B or C to 83738. Good luck!  \n",
       "504                                                                                                Oh my god! I've found your number again! I'm so glad, text me back xafter this msgs cst std ntwk chg £1.50  \n",
       "512                                                      Sorry! U can not unsubscribe yet. THE MOB offer package has a min term of 54 weeks> pls resubmit request after expiry. Reply THEMOB HELP 4 more info  \n",
       "546                                          Hi babe its Chloe, how r u? I was smashed on saturday night, it was great! How was your weekend? U been missing me? SP visionsms.com Text stop to stop 150p/text  \n",
       "649                                          Am new 2 club & dont fink we met yet Will B gr8 2 C U Please leave msg 2day wiv ur area 09099726553 reply promised CARLIE x Calls£1/minMobsmore LKPOBOX177HP51FL  \n",
       "653                                                                              Hi, the SEXYCHAT girls are waiting for you to text them. Text now for a great night chatting. send STOP to stop this service  \n",
       "673                                                             Burger King - Wanna play footy at a top stadium? Get 2 Burger King before 1st Sept and go Large or Super with Coca-Cola and walk out a winner  \n",
       "741                                               0A$NETWORKS allow companies to bill for SMS, so they are responsible for their \"suppliers\", just as a shop has to give a guarantee on what they sell. B. G.  \n",
       "857                                                                      U have a secret admirer who is looking 2 make contact with U-find out who they R*reveal who thinks UR so special-call on 09058094594  \n",
       "873                                                                                           <Forwarded from 448712404000>Please CALL 08712404000 immediately as there is an urgent message waiting for you.  \n",
       "876                                                                                                                                                                  RCT' THNQ Adrian for U text. Rgds Vatian  \n",
       "885                                                                                                                                                                                             2/2 146tf150p  \n",
       "917                                                                                  Dont forget you can place as many FREE Requests with 1stchoice.co.uk as you wish. For more Information call 08707808226.  \n",
       "953                                                                    Hello. We need some posh birds and chaps to user trial prods for champneys. Can i put you down? I need your address and dob asap. Ta r  \n",
       "977                                                                                                                                                                                        ringtoneking 84484  \n",
       "1006                                                                                                         A link to your picture has been sent. You can also use http://alto18.co.uk/wave/wave.asp?o=44345  \n",
       "1048                                         FreeMsg:Feelin kinda lnly hope u like 2 keep me company! Jst got a cam moby wanna c my pic?Txt or reply DATE to 82242 Msg150p 2rcv Hlp 08712317606 stop to 82242  "
      ]
     },
     "execution_count": 183,
     "metadata": {},
     "output_type": "execute_result"
    }
   ],
   "source": [
    "# Let's take a look at messages we didn't accurately predict\n",
    "pred_wrong = test[predictions != test['Label_']]\n",
    "print(len(pred_wrong))\n",
    "pred_wrong[['Label_', 'SMS_']].head(len(pred_wrong))"
   ]
  },
  {
   "cell_type": "markdown",
   "id": "e23fa87b",
   "metadata": {},
   "source": [
    "### Conclusion\n",
    "<font size=\"3\">Looking the messages our classifier mislabeled, all except for two of them are spam messages that were mislabeled as ham messages. Moreover, most of these spam messages appear to have 5 or 11 digit phone numbers--which was a feature we accounted for in our model above. Perhaps we need to assign a larger weight to phone_nums feature. One thing we can try to improve the accuracy of our model is introduce a $\\beta$ parameter that gives a larger weight to phone_nums. So our new probability for $P(w_i|spam)$ would be:<font/>\n",
    " \n",
    "\\begin{equation*}\n",
    "P(w_i|spam) = (n\\_w_i\\_spam + \\alpha + \\beta * phone\\_nums) / (n\\_spam + \\alpha * n\\_vocab + \\beta * phone\\_nums)\n",
    "\\end{equation*}\n",
    "    \n",
    "<font size=\"3\">We can then experiment with different values of $\\beta$ to see which yields the best results.<font/>"
   ]
  },
  {
   "cell_type": "markdown",
   "id": "ae621701",
   "metadata": {},
   "source": [
    "## Model Fitting using SKlearn Multinomial Naive Bayes module\n",
    "<font size=\"3\">In this section we'll use sklearn's built-in multinomial naive bayes module to train and test the data and compare the accuracy achieved to the accuracy achieved above.<font/>"
   ]
  },
  {
   "cell_type": "code",
   "execution_count": 184,
   "id": "af2429a8",
   "metadata": {},
   "outputs": [],
   "source": [
    "# Declare feature vector & target variable\n",
    "X = full_df.drop(['Label_', 'SMS_', 'clean_message'], axis=1)\n",
    "y = full_df['Label_']"
   ]
  },
  {
   "cell_type": "code",
   "execution_count": 185,
   "id": "8e4fe0bf",
   "metadata": {},
   "outputs": [],
   "source": [
    "# split X and y into training and testing sets\n",
    "from sklearn.model_selection import train_test_split\n",
    "\n",
    "X_train, X_test, y_train, y_test = train_test_split(X, y, test_size = 0.2, random_state = 0)"
   ]
  },
  {
   "cell_type": "code",
   "execution_count": 186,
   "id": "1e05435a",
   "metadata": {},
   "outputs": [
    {
     "name": "stdout",
     "output_type": "stream",
     "text": [
      "(4457, 10572)\n",
      "(1115, 10572)\n"
     ]
    }
   ],
   "source": [
    "print(X_train.shape)\n",
    "print(X_test.shape)"
   ]
  },
  {
   "cell_type": "code",
   "execution_count": 187,
   "id": "949c5d2d",
   "metadata": {},
   "outputs": [
    {
     "data": {
      "text/plain": [
       "MultinomialNB()"
      ]
     },
     "execution_count": 187,
     "metadata": {},
     "output_type": "execute_result"
    }
   ],
   "source": [
    "# train a Gaussian Naive Bayes classifier on the training set\n",
    "from sklearn.naive_bayes import MultinomialNB\n",
    "\n",
    "# instantiate the model\n",
    "mb = MultinomialNB()\n",
    "\n",
    "# fit the model\n",
    "mb.fit(X_train, y_train)"
   ]
  },
  {
   "cell_type": "code",
   "execution_count": 188,
   "id": "121657fa",
   "metadata": {},
   "outputs": [],
   "source": [
    "# Make predictions\n",
    "y_pred = mb.predict(X_test)"
   ]
  },
  {
   "cell_type": "code",
   "execution_count": 191,
   "id": "d3644569",
   "metadata": {},
   "outputs": [
    {
     "name": "stdout",
     "output_type": "stream",
     "text": [
      "Model accuracy score: 0.9695\n"
     ]
    }
   ],
   "source": [
    "# determine model accuracy\n",
    "from sklearn.metrics import accuracy_score\n",
    "\n",
    "print('Model accuracy score: {0:0.4f}'.format(accuracy_score(y_test, y_pred)))"
   ]
  },
  {
   "cell_type": "markdown",
   "id": "47f7fd22",
   "metadata": {},
   "source": [
    "<font size=\"3\">Using SKlearn's MultinomialNB module also yields a classifier with accurate predictions.<font/>"
   ]
  }
 ],
 "metadata": {
  "kernelspec": {
   "display_name": "Python 3 (ipykernel)",
   "language": "python",
   "name": "python3"
  },
  "language_info": {
   "codemirror_mode": {
    "name": "ipython",
    "version": 3
   },
   "file_extension": ".py",
   "mimetype": "text/x-python",
   "name": "python",
   "nbconvert_exporter": "python",
   "pygments_lexer": "ipython3",
   "version": "3.9.12"
  }
 },
 "nbformat": 4,
 "nbformat_minor": 5
}
